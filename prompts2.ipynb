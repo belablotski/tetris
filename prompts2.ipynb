{
 "cells": [
  {
   "cell_type": "code",
   "execution_count": 2,
   "metadata": {},
   "outputs": [],
   "source": [
    "import google.generativeai as genai"
   ]
  },
  {
   "cell_type": "code",
   "execution_count": 3,
   "metadata": {},
   "outputs": [
    {
     "name": "stdout",
     "output_type": "stream",
     "text": [
      "Google AI API key is set. GenAI configured successfully.\n",
      "Model(name='models/gemini-1.5-flash-latest',\n",
      "      base_model_id='',\n",
      "      version='001',\n",
      "      display_name='Gemini 1.5 Flash Latest',\n",
      "      description='Fast and versatile multimodal model for scaling across diverse tasks',\n",
      "      input_token_limit=1048576,\n",
      "      output_token_limit=8192,\n",
      "      supported_generation_methods=['generateContent', 'countTokens'],\n",
      "      temperature=1.0,\n",
      "      top_p=0.95,\n",
      "      top_k=64)\n"
     ]
    }
   ],
   "source": [
    "import os\n",
    "\n",
    "env_var = 'GOOGLE_AI_APIKEY'\n",
    "model_version = 'models/gemini-1.5-flash-latest'\n",
    "\n",
    "if env_var in os.environ:\n",
    "    genai.configure(api_key=os.environ[env_var])\n",
    "    print('Google AI API key is set. GenAI configured successfully.')\n",
    "else:\n",
    "    url = 'https://aistudio.google.com/app/apikey'\n",
    "    raise Exception(f'Please get Google AI API key from {url} and put it in {env_var} environment variable (or in .env file for Jupyter)')\n",
    "\n",
    "# See more in https://github.com/google-gemini/cookbook/blob/main/quickstarts/Models.ipynb\n",
    "\n",
    "model_info = genai.get_model(model_version)\n",
    "print(model_info)"
   ]
  },
  {
   "cell_type": "code",
   "execution_count": 4,
   "metadata": {},
   "outputs": [
    {
     "data": {
      "text/plain": [
       "'[\"move left\", \"move left\", \"move left\", \"move left\", \"move left\", \"move left\", \"release\"]\\n'"
      ]
     },
     "execution_count": 4,
     "metadata": {},
     "output_type": "execute_result"
    }
   ],
   "source": [
    "instruction = \"\"\"You are an expert Tetris player. You will be helping another player to master the game of Tetris.\n",
    "\n",
    "You will be asked for an advice on how to deal with a piece in hands. The tetromino that you can move is at the top of the game field.\n",
    "\n",
    "The game board (also known as \"well\" or \"matrix\") has 25 rows and 12 columns. Each cell is marked as occupied or vacant.\n",
    "\n",
    "Your response should be a sequence of actions - what to do with the piece to land it at the desired position, where the piece completes some lines or put (if line completion is not feasible) the piece strategically to make further line completion easier. \n",
    "\n",
    "The sequence of actions is the list of allowed actions: \"move left\", \"move right\", \"rotate clockwise\", \"rotate counterclockwise\", \"release\".\n",
    "\n",
    "For example:\n",
    "\n",
    "vacant vacant vacant vacant occupied occupied occupied vacant vacant vacant vacant vacant \n",
    "vacant vacant vacant vacant vacant vacant occupied vacant vacant vacant vacant vacant \n",
    "vacant vacant vacant vacant vacant vacant vacant vacant vacant vacant vacant vacant \n",
    "vacant vacant vacant vacant vacant vacant vacant vacant vacant vacant vacant vacant \n",
    "vacant vacant vacant vacant vacant vacant vacant vacant vacant vacant vacant vacant \n",
    "vacant vacant vacant vacant vacant vacant vacant vacant vacant vacant vacant vacant \n",
    "vacant vacant vacant vacant vacant vacant vacant vacant vacant vacant vacant vacant \n",
    "vacant vacant vacant vacant vacant vacant vacant vacant vacant vacant vacant vacant \n",
    "vacant vacant vacant vacant vacant vacant vacant vacant vacant vacant vacant vacant \n",
    "vacant vacant vacant vacant vacant vacant vacant vacant vacant vacant vacant vacant \n",
    "vacant vacant vacant vacant vacant vacant vacant vacant vacant vacant vacant vacant \n",
    "vacant vacant vacant vacant vacant vacant vacant vacant vacant vacant vacant vacant \n",
    "vacant vacant vacant vacant vacant vacant vacant vacant vacant vacant vacant vacant \n",
    "vacant vacant vacant vacant vacant vacant vacant vacant vacant vacant vacant vacant \n",
    "vacant vacant vacant vacant vacant vacant vacant vacant vacant vacant vacant vacant \n",
    "vacant vacant vacant vacant vacant vacant vacant vacant vacant vacant vacant vacant \n",
    "vacant vacant vacant vacant vacant vacant vacant vacant vacant vacant vacant vacant \n",
    "vacant vacant vacant vacant vacant vacant vacant vacant vacant vacant vacant vacant \n",
    "vacant vacant vacant vacant vacant vacant vacant vacant vacant vacant vacant vacant \n",
    "vacant vacant vacant vacant vacant vacant vacant vacant vacant vacant vacant vacant \n",
    "vacant vacant vacant vacant vacant vacant vacant vacant vacant vacant vacant vacant \n",
    "occupied vacant occupied occupied occupied occupied occupied occupied occupied occupied occupied occupied \n",
    "occupied vacant occupied occupied occupied occupied occupied occupied occupied occupied occupied occupied \n",
    "occupied occupied occupied occupied occupied vacant occupied occupied occupied occupied occupied occupied \n",
    "occupied occupied occupied occupied occupied vacant occupied occupied occupied occupied occupied occupied \n",
    "\n",
    "The sequence of actions to land the piece will be \"rotate counterclockwise\", \"move left\", \"move left\", \"move left\", \"release\".\n",
    "\n",
    "The \"release\" must be the last command since after that the piece just drops down.\n",
    "\"\"\"\n",
    "\n",
    "model = genai.GenerativeModel(model_version,\n",
    "                              system_instruction=instruction,\n",
    "                              generation_config={\"temperature\": 0})\n",
    "\n",
    "well_text = \"TBD\"\n",
    "\n",
    "prompt = f\"\"\"Advise how to land the tetromino currently located at the top (at the middle of the first row) on the board of 12 cols and 25 rows, where \"vacant\" represents a free cell and \"occupied\" means that the cell is occupied.\n",
    "\n",
    "{well_text}\n",
    "\n",
    "Generate list of entities in text based on the following Python class structure:\n",
    "list[str]\n",
    "\"\"\"\n",
    "\n",
    "response = model.generate_content(prompt,\n",
    "                                  generation_config={\"response_mime_type\": \"application/json\"})\n",
    "\n",
    "response.text"
   ]
  }
 ],
 "metadata": {
  "kernelspec": {
   "display_name": ".venv",
   "language": "python",
   "name": "python3"
  },
  "language_info": {
   "codemirror_mode": {
    "name": "ipython",
    "version": 3
   },
   "file_extension": ".py",
   "mimetype": "text/x-python",
   "name": "python",
   "nbconvert_exporter": "python",
   "pygments_lexer": "ipython3",
   "version": "3.11.2"
  }
 },
 "nbformat": 4,
 "nbformat_minor": 2
}
