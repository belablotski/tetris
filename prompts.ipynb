{
 "cells": [
  {
   "cell_type": "code",
   "execution_count": 18,
   "metadata": {},
   "outputs": [],
   "source": [
    "import google.generativeai as genai"
   ]
  },
  {
   "cell_type": "code",
   "execution_count": 19,
   "metadata": {},
   "outputs": [
    {
     "name": "stdout",
     "output_type": "stream",
     "text": [
      "Google AI API key is set. GenAI configured successfully.\n"
     ]
    }
   ],
   "source": [
    "import os\n",
    "\n",
    "env_var = 'GOOGLE_AI_APIKEY'\n",
    "url = 'https://aistudio.google.com/app/apikey'\n",
    "\n",
    "if env_var in os.environ:\n",
    "    genai.configure(api_key=os.environ[env_var])\n",
    "    print('Google AI API key is set. GenAI configured successfully.')\n",
    "else:\n",
    "    raise Exception(f'Please get Google AI API key from {url} and put it in {env_var} environment variable (or in .env file for Jupyter)')"
   ]
  },
  {
   "cell_type": "code",
   "execution_count": 22,
   "metadata": {},
   "outputs": [
    {
     "data": {
      "text/markdown": [
       "text: \"Tetris\\'s enduring appeal stems from a potent mix of elements that create a uniquely addictive experience:\\n\\n**1. Simplicity and Accessibility:** Tetris is incredibly easy to learn, requiring only a basic understanding of block rotation and movement. This accessibility allows anyone to pick up and play, instantly engaging a wide audience.\\n\\n**2. Constant Challenge:** Despite its simple rules, Tetris presents a constant challenge. The speed increases as you play, demanding rapid decision-making and strategic block placement. This escalating difficulty keeps players engaged and striving for higher scores.\\n\\n**3. Visceral Satisfaction:** There\\'s an undeniable sense of accomplishment and satisfaction in clearing lines. The satisfying \\\"clunk\\\" of blocks settling and the visual spectacle of rows disappearing provide immediate positive reinforcement, encouraging players to continue.\\n\\n**4. Flow State:**  The combination of simple rules, escalating difficulty, and immediate feedback creates a \\\"flow state\\\" where players become fully immersed in the game, losing track of time and experiencing a sense of focus and enjoyment.\\n\\n**5. Problem-solving:**  While seemingly simple, Tetris requires strategic thinking and spatial reasoning. Players must anticipate future block formations, plan ahead, and make quick decisions to maximize their score and clear lines efficiently.\\n\\n**6. Nostalgic Appeal:**  Tetris has been a mainstay in gaming for decades, with countless iterations and versions across various platforms. This long-standing popularity has made it a nostalgic favorite for many, evoking fond memories and a sense of familiarity.\\n\\n**7. Universal Appeal:**  Tetris transcends cultural boundaries and age groups. Its simple gameplay and addictive nature resonate with people of all backgrounds, making it a timeless and beloved classic.\\n\\n**8. Competitive Nature:**  The inherent competitive nature of Tetris encourages players to strive for higher scores and beat their own records, adding another layer of excitement and motivation.\\n\\nIn essence, Tetris combines the perfect blend of challenge, satisfaction, accessibility, and enduring appeal, making it an exciting and perpetually engaging game that continues to captivate players of all ages and backgrounds.\\n\"\n"
      ],
      "text/plain": [
       "<IPython.core.display.Markdown object>"
      ]
     },
     "metadata": {},
     "output_type": "display_data"
    }
   ],
   "source": [
    "from IPython.display import display, Markdown\n",
    "\n",
    "model = genai.GenerativeModel(\"gemini-1.5-flash-latest\")\n",
    "prompt = \"Could you tell me why the game of Tetris is so exciting.\"\n",
    "\n",
    "response = model.generate_content(prompt)\n",
    "md = response.candidates[0].content.parts[0].text\n",
    "display(Markdown(md))\n"
   ]
  }
 ],
 "metadata": {
  "kernelspec": {
   "display_name": ".venv",
   "language": "python",
   "name": "python3"
  },
  "language_info": {
   "codemirror_mode": {
    "name": "ipython",
    "version": 3
   },
   "file_extension": ".py",
   "mimetype": "text/x-python",
   "name": "python",
   "nbconvert_exporter": "python",
   "pygments_lexer": "ipython3",
   "version": "3.11.2"
  }
 },
 "nbformat": 4,
 "nbformat_minor": 2
}
