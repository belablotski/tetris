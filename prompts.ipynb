{
 "cells": [
  {
   "cell_type": "code",
   "execution_count": 34,
   "metadata": {},
   "outputs": [],
   "source": [
    "import google.generativeai as genai"
   ]
  },
  {
   "cell_type": "code",
   "execution_count": 35,
   "metadata": {},
   "outputs": [
    {
     "name": "stdout",
     "output_type": "stream",
     "text": [
      "Google AI API key is set. GenAI configured successfully.\n",
      "Model(name='models/gemini-1.5-flash-latest',\n",
      "      base_model_id='',\n",
      "      version='001',\n",
      "      display_name='Gemini 1.5 Flash Latest',\n",
      "      description='Fast and versatile multimodal model for scaling across diverse tasks',\n",
      "      input_token_limit=1048576,\n",
      "      output_token_limit=8192,\n",
      "      supported_generation_methods=['generateContent', 'countTokens'],\n",
      "      temperature=1.0,\n",
      "      top_p=0.95,\n",
      "      top_k=64)\n"
     ]
    }
   ],
   "source": [
    "import os\n",
    "\n",
    "env_var = 'GOOGLE_AI_APIKEY'\n",
    "model_version = 'models/gemini-1.5-flash-latest'\n",
    "\n",
    "if env_var in os.environ:\n",
    "    genai.configure(api_key=os.environ[env_var])\n",
    "    print('Google AI API key is set. GenAI configured successfully.')\n",
    "else:\n",
    "    url = 'https://aistudio.google.com/app/apikey'\n",
    "    raise Exception(f'Please get Google AI API key from {url} and put it in {env_var} environment variable (or in .env file for Jupyter)')\n",
    "\n",
    "# See more in https://github.com/google-gemini/cookbook/blob/main/quickstarts/Models.ipynb\n",
    "\n",
    "model_info = genai.get_model(model_version)\n",
    "print(model_info)"
   ]
  },
  {
   "cell_type": "code",
   "execution_count": 43,
   "metadata": {},
   "outputs": [
    {
     "name": "stdout",
     "output_type": "stream",
     "text": [
      "{\n",
      "  \"reasons\": [\n",
      "    \"**Fast-paced and challenging:** The constant flow of falling blocks and the need to quickly strategize and make decisions creates a sense of urgency and excitement. The game's difficulty progressively increases, adding to the thrill.\",\n",
      "    \"**Sense of accomplishment:** Clearing lines and achieving higher scores provides a sense of satisfaction and accomplishment, motivating players to continue playing and strive for better results.\",\n",
      "    \"**Simple yet addictive:** Tetris's core mechanics are easy to learn but difficult to master, making it accessible to players of all skill levels. Its simple gameplay and addictive nature keep players engaged for extended periods.\",\n",
      "    \"**Strategic thinking:**  Tetris requires players to think ahead, plan their moves, and rotate blocks to fit them perfectly into the grid. This element of strategy adds depth and complexity to the game.\",\n",
      "    \"**Visual appeal:**  The colorful blocks and dynamic gameplay create a visually stimulating experience, contributing to the game's excitement.\",\n",
      "    \"**Nostalgic factor:**  For many people, Tetris evokes a sense of nostalgia, reminding them of their childhood or simpler times. This nostalgic connection adds to the emotional appeal of the game.\",\n",
      "    \"**Competitive nature:**  Tetris is a game that can be played competitively, allowing players to test their skills against others. This competitive aspect adds an extra layer of excitement and motivation.\",\n",
      "    \"**Universal appeal:**  Tetris is a game that transcends cultural and generational boundaries, appealing to people of all ages and backgrounds. Its simplicity and addictive nature have made it a global phenomenon.\"\n",
      "  ]\n",
      "}\n"
     ]
    }
   ],
   "source": [
    "import json\n",
    "from IPython.display import display, JSON\n",
    "\n",
    "model = genai.GenerativeModel(model_version,\n",
    "                              generation_config={\"response_mime_type\": \"application/json\"})\n",
    "prompt = \"Could you tell me why the game of Tetris is so exciting.\"\n",
    "\n",
    "response = model.generate_content(prompt)\n",
    "#display(JSON(json.loads(response.text)))\n",
    "print(json.dumps(json.loads(response.text), indent=2)) \n"
   ]
  },
  {
   "cell_type": "code",
   "execution_count": 45,
   "metadata": {},
   "outputs": [
    {
     "data": {
      "text/markdown": [
       "Tetris is exciting for several reasons:\n",
       "\n",
       "**1. Simple Rules, Complex Gameplay:**\n",
       "\n",
       "* **Easy to learn:** The rules are straightforward - you just need to rotate and drop falling blocks.\n",
       "* **Challenging to master:** While simple, the game's speed and randomness create a complex challenge. You need to think ahead, plan your moves, and adapt to the ever-changing situation. This constant need to strategize keeps players engaged.\n",
       "\n",
       "**2.  The \"Just One More\" Phenomenon:**\n",
       "\n",
       "* **Addictive nature:** Tetris's gameplay creates a sense of flow and momentum. You might start with a few minutes of play, only to find yourself completely immersed and wanting to play \"just one more\" level or round.\n",
       "\n",
       "**3.  Satisfying Completion:**\n",
       "\n",
       "* **Completion and reward:** Each line you clear is a small victory, and the sense of satisfaction from creating a perfect \"Tetris\" (clearing four lines at once) is highly rewarding.\n",
       "\n",
       "**4.  Visual Stimulation:**\n",
       "\n",
       "* **Aesthetically pleasing:** The Tetris design is visually appealing, with vibrant colors and simple shapes that create a satisfyingly symmetrical experience.\n",
       "\n",
       "**5.  Sense of Accomplishment:**\n",
       "\n",
       "* **Progress and improvement:** Players can constantly strive to improve their score and beat their own personal best, creating a sense of progress and achievement.\n",
       "\n",
       "**6.  Universal Appeal:**\n",
       "\n",
       "* **No age barrier:** Tetris is a game enjoyed by people of all ages, making it a truly universal experience.\n",
       "\n",
       "**7.  Competition and Socialization:**\n",
       "\n",
       "* **Social interaction:** The competitive nature of Tetris can lead to friendly rivalries, making it a great game for social gatherings.\n",
       "\n",
       "Overall, Tetris's combination of simple rules, addictive gameplay, visual appeal, and sense of accomplishment makes it a truly exciting and engaging experience. It's a game that continues to be popular even decades after its creation.\n"
      ],
      "text/plain": [
       "<IPython.core.display.Markdown object>"
      ]
     },
     "metadata": {},
     "output_type": "display_data"
    }
   ],
   "source": [
    "from IPython.display import display, Markdown\n",
    "\n",
    "model = genai.GenerativeModel(model_version)\n",
    "prompt = \"Could you tell me why the game of Tetris is so exciting.\"\n",
    "\n",
    "response = model.generate_content(prompt)\n",
    "md = response.candidates[0].content.parts[0].text\n",
    "display(Markdown(md))\n"
   ]
  }
 ],
 "metadata": {
  "kernelspec": {
   "display_name": ".venv",
   "language": "python",
   "name": "python3"
  },
  "language_info": {
   "codemirror_mode": {
    "name": "ipython",
    "version": 3
   },
   "file_extension": ".py",
   "mimetype": "text/x-python",
   "name": "python",
   "nbconvert_exporter": "python",
   "pygments_lexer": "ipython3",
   "version": "3.11.2"
  }
 },
 "nbformat": 4,
 "nbformat_minor": 2
}
